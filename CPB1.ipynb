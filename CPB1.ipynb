{
  "nbformat": 4,
  "nbformat_minor": 0,
  "metadata": {
    "colab": {
      "provenance": [],
      "authorship_tag": "ABX9TyPjS1mYD1S9N5syk6xwdBPA",
      "include_colab_link": true
    },
    "kernelspec": {
      "name": "python3",
      "display_name": "Python 3"
    },
    "language_info": {
      "name": "python"
    }
  },
  "cells": [
    {
      "cell_type": "markdown",
      "metadata": {
        "id": "view-in-github",
        "colab_type": "text"
      },
      "source": [
        "<a href=\"https://colab.research.google.com/github/Binzbo/Mini-Project/blob/main/CPB1.ipynb\" target=\"_parent\"><img src=\"https://colab.research.google.com/assets/colab-badge.svg\" alt=\"Open In Colab\"/></a>"
      ]
    },
    {
      "cell_type": "code",
      "execution_count": null,
      "metadata": {
        "id": "n9vWXzGAwyKl",
        "colab": {
          "base_uri": "https://localhost:8080/",
          "height": 74
        },
        "outputId": "935433cc-0be7-458d-b030-8aa1b338d091"
      },
      "outputs": [
        {
          "output_type": "display_data",
          "data": {
            "text/plain": [
              "<IPython.core.display.HTML object>"
            ],
            "text/html": [
              "\n",
              "     <input type=\"file\" id=\"files-746c0031-fdb4-4f62-8cb1-1bc004c981c8\" name=\"files[]\" multiple disabled\n",
              "        style=\"border:none\" />\n",
              "     <output id=\"result-746c0031-fdb4-4f62-8cb1-1bc004c981c8\">\n",
              "      Upload widget is only available when the cell has been executed in the\n",
              "      current browser session. Please rerun this cell to enable.\n",
              "      </output>\n",
              "      <script>// Copyright 2017 Google LLC\n",
              "//\n",
              "// Licensed under the Apache License, Version 2.0 (the \"License\");\n",
              "// you may not use this file except in compliance with the License.\n",
              "// You may obtain a copy of the License at\n",
              "//\n",
              "//      http://www.apache.org/licenses/LICENSE-2.0\n",
              "//\n",
              "// Unless required by applicable law or agreed to in writing, software\n",
              "// distributed under the License is distributed on an \"AS IS\" BASIS,\n",
              "// WITHOUT WARRANTIES OR CONDITIONS OF ANY KIND, either express or implied.\n",
              "// See the License for the specific language governing permissions and\n",
              "// limitations under the License.\n",
              "\n",
              "/**\n",
              " * @fileoverview Helpers for google.colab Python module.\n",
              " */\n",
              "(function(scope) {\n",
              "function span(text, styleAttributes = {}) {\n",
              "  const element = document.createElement('span');\n",
              "  element.textContent = text;\n",
              "  for (const key of Object.keys(styleAttributes)) {\n",
              "    element.style[key] = styleAttributes[key];\n",
              "  }\n",
              "  return element;\n",
              "}\n",
              "\n",
              "// Max number of bytes which will be uploaded at a time.\n",
              "const MAX_PAYLOAD_SIZE = 100 * 1024;\n",
              "\n",
              "function _uploadFiles(inputId, outputId) {\n",
              "  const steps = uploadFilesStep(inputId, outputId);\n",
              "  const outputElement = document.getElementById(outputId);\n",
              "  // Cache steps on the outputElement to make it available for the next call\n",
              "  // to uploadFilesContinue from Python.\n",
              "  outputElement.steps = steps;\n",
              "\n",
              "  return _uploadFilesContinue(outputId);\n",
              "}\n",
              "\n",
              "// This is roughly an async generator (not supported in the browser yet),\n",
              "// where there are multiple asynchronous steps and the Python side is going\n",
              "// to poll for completion of each step.\n",
              "// This uses a Promise to block the python side on completion of each step,\n",
              "// then passes the result of the previous step as the input to the next step.\n",
              "function _uploadFilesContinue(outputId) {\n",
              "  const outputElement = document.getElementById(outputId);\n",
              "  const steps = outputElement.steps;\n",
              "\n",
              "  const next = steps.next(outputElement.lastPromiseValue);\n",
              "  return Promise.resolve(next.value.promise).then((value) => {\n",
              "    // Cache the last promise value to make it available to the next\n",
              "    // step of the generator.\n",
              "    outputElement.lastPromiseValue = value;\n",
              "    return next.value.response;\n",
              "  });\n",
              "}\n",
              "\n",
              "/**\n",
              " * Generator function which is called between each async step of the upload\n",
              " * process.\n",
              " * @param {string} inputId Element ID of the input file picker element.\n",
              " * @param {string} outputId Element ID of the output display.\n",
              " * @return {!Iterable<!Object>} Iterable of next steps.\n",
              " */\n",
              "function* uploadFilesStep(inputId, outputId) {\n",
              "  const inputElement = document.getElementById(inputId);\n",
              "  inputElement.disabled = false;\n",
              "\n",
              "  const outputElement = document.getElementById(outputId);\n",
              "  outputElement.innerHTML = '';\n",
              "\n",
              "  const pickedPromise = new Promise((resolve) => {\n",
              "    inputElement.addEventListener('change', (e) => {\n",
              "      resolve(e.target.files);\n",
              "    });\n",
              "  });\n",
              "\n",
              "  const cancel = document.createElement('button');\n",
              "  inputElement.parentElement.appendChild(cancel);\n",
              "  cancel.textContent = 'Cancel upload';\n",
              "  const cancelPromise = new Promise((resolve) => {\n",
              "    cancel.onclick = () => {\n",
              "      resolve(null);\n",
              "    };\n",
              "  });\n",
              "\n",
              "  // Wait for the user to pick the files.\n",
              "  const files = yield {\n",
              "    promise: Promise.race([pickedPromise, cancelPromise]),\n",
              "    response: {\n",
              "      action: 'starting',\n",
              "    }\n",
              "  };\n",
              "\n",
              "  cancel.remove();\n",
              "\n",
              "  // Disable the input element since further picks are not allowed.\n",
              "  inputElement.disabled = true;\n",
              "\n",
              "  if (!files) {\n",
              "    return {\n",
              "      response: {\n",
              "        action: 'complete',\n",
              "      }\n",
              "    };\n",
              "  }\n",
              "\n",
              "  for (const file of files) {\n",
              "    const li = document.createElement('li');\n",
              "    li.append(span(file.name, {fontWeight: 'bold'}));\n",
              "    li.append(span(\n",
              "        `(${file.type || 'n/a'}) - ${file.size} bytes, ` +\n",
              "        `last modified: ${\n",
              "            file.lastModifiedDate ? file.lastModifiedDate.toLocaleDateString() :\n",
              "                                    'n/a'} - `));\n",
              "    const percent = span('0% done');\n",
              "    li.appendChild(percent);\n",
              "\n",
              "    outputElement.appendChild(li);\n",
              "\n",
              "    const fileDataPromise = new Promise((resolve) => {\n",
              "      const reader = new FileReader();\n",
              "      reader.onload = (e) => {\n",
              "        resolve(e.target.result);\n",
              "      };\n",
              "      reader.readAsArrayBuffer(file);\n",
              "    });\n",
              "    // Wait for the data to be ready.\n",
              "    let fileData = yield {\n",
              "      promise: fileDataPromise,\n",
              "      response: {\n",
              "        action: 'continue',\n",
              "      }\n",
              "    };\n",
              "\n",
              "    // Use a chunked sending to avoid message size limits. See b/62115660.\n",
              "    let position = 0;\n",
              "    do {\n",
              "      const length = Math.min(fileData.byteLength - position, MAX_PAYLOAD_SIZE);\n",
              "      const chunk = new Uint8Array(fileData, position, length);\n",
              "      position += length;\n",
              "\n",
              "      const base64 = btoa(String.fromCharCode.apply(null, chunk));\n",
              "      yield {\n",
              "        response: {\n",
              "          action: 'append',\n",
              "          file: file.name,\n",
              "          data: base64,\n",
              "        },\n",
              "      };\n",
              "\n",
              "      let percentDone = fileData.byteLength === 0 ?\n",
              "          100 :\n",
              "          Math.round((position / fileData.byteLength) * 100);\n",
              "      percent.textContent = `${percentDone}% done`;\n",
              "\n",
              "    } while (position < fileData.byteLength);\n",
              "  }\n",
              "\n",
              "  // All done.\n",
              "  yield {\n",
              "    response: {\n",
              "      action: 'complete',\n",
              "    }\n",
              "  };\n",
              "}\n",
              "\n",
              "scope.google = scope.google || {};\n",
              "scope.google.colab = scope.google.colab || {};\n",
              "scope.google.colab._files = {\n",
              "  _uploadFiles,\n",
              "  _uploadFilesContinue,\n",
              "};\n",
              "})(self);\n",
              "</script> "
            ]
          },
          "metadata": {}
        },
        {
          "output_type": "stream",
          "name": "stdout",
          "text": [
            "Saving CPB1.xlsx to CPB1.xlsx\n"
          ]
        }
      ],
      "source": [
        "from google.colab import files\n",
        "uploaded = files.upload()"
      ]
    },
    {
      "cell_type": "code",
      "source": [
        "import pandas as pd\n",
        "\n",
        "# Ubah 'nama_file.xlsx' dengan nama file Excel yang ingin Anda baca\n",
        "nama_file = 'CPB1.xlsx'\n",
        "\n",
        "# Baca file Excel dan simpan dalam DataFrame\n",
        "dataframe = pd.read_excel(nama_file, header=None)\n",
        "\n",
        "# Cetak header\n",
        "print(\"Header dari file Excel:\")\n",
        "print(dataframe.head())\n"
      ],
      "metadata": {
        "colab": {
          "base_uri": "https://localhost:8080/"
        },
        "id": "dDGV5C-HxPl-",
        "outputId": "ec9969bf-4eab-4912-bd0b-7400d8521630"
      },
      "execution_count": null,
      "outputs": [
        {
          "output_type": "stream",
          "name": "stdout",
          "text": [
            "Header dari file Excel:\n",
            "          0         1         2         3         4      5\n",
            "0    powLv1    powLv2    powLv3    powLv4    powLv5  kelas\n",
            "1  0.446692  0.220117  0.144672  0.106003  0.082516      A\n",
            "2  0.442455  0.219658  0.145039  0.107494  0.085354      A\n",
            "3  0.446993  0.220535  0.144443  0.105565  0.082465      A\n",
            "4   0.45709  0.221898  0.141954  0.101666  0.077392      A\n"
          ]
        }
      ]
    },
    {
      "cell_type": "code",
      "source": [
        "import pandas as pd\n",
        "from sklearn.model_selection import cross_val_score, KFold\n",
        "from sklearn.svm import SVC\n",
        "import numpy as np\n",
        "\n",
        "# Ubah 'nama_file.xlsx' dengan nama file Excel yang ingin Anda baca\n",
        "nama_file = 'CPB1.xlsx'\n",
        "\n",
        "# Baca data dari file Excel\n",
        "data = pd.read_excel(nama_file)\n",
        "\n",
        "# Misalkan kolom terakhir adalah kolom target (y) dan kolom lainnya adalah fitur (X)\n",
        "X = data.iloc[:, :-1]  # Ambil semua kolom kecuali kolom terakhir\n",
        "y = data.iloc[:, -1]   # Ambil kolom terakhir sebagai target\n",
        "\n",
        "# Inisialisasi model SVM\n",
        "model = SVC(kernel='linear')\n",
        "\n",
        "# Inisialisasi 10-fold Cross-Validation\n",
        "k_fold = KFold(n_splits=10, shuffle=True, random_state=42)\n",
        "\n",
        "# Melakukan Cross-Validation\n",
        "scores = cross_val_score(model, X, y, cv=k_fold)\n",
        "\n",
        "# Menampilkan hasil Cross-Validation\n",
        "print(\"Akurasi setiap fold:\", scores)\n",
        "print(\"Rata-rata akurasi:\", np.mean(scores))\n"
      ],
      "metadata": {
        "colab": {
          "base_uri": "https://localhost:8080/"
        },
        "id": "JE0LySQ7xVHg",
        "outputId": "4d892157-5373-4e39-99bd-f84d89e80063"
      },
      "execution_count": null,
      "outputs": [
        {
          "output_type": "stream",
          "name": "stdout",
          "text": [
            "Akurasi setiap fold: [0.55 0.45 0.7  0.45 0.45 0.45 0.75 0.4  0.45 0.45]\n",
            "Rata-rata akurasi: 0.51\n"
          ]
        }
      ]
    },
    {
      "cell_type": "code",
      "source": [
        "import pandas as pd\n",
        "from sklearn.model_selection import train_test_split\n",
        "from sklearn.svm import SVC\n",
        "from sklearn.metrics import accuracy_score\n",
        "\n",
        "nama_file = 'CPB1.xlsx'\n",
        "\n",
        "data = pd.read_excel(nama_file)\n",
        "\n",
        "X = data.iloc[:, :-1]  # Ambil semua kolom kecuali kolom terakhir\n",
        "y = data.iloc[:, -1]   # Ambil kolom terakhir sebagai target\n",
        "\n",
        "# Bagi data menjadi data pelatihan (75%) dan data pengujian (25%)\n",
        "X_train, X_test, y_train, y_test = train_test_split(X, y, test_size=0.25, random_state=42)\n",
        "\n",
        "# Inisialisasi model SVM\n",
        "model = SVC(kernel='linear')\n",
        "\n",
        "# Latih model dengan data pelatihan\n",
        "model.fit(X_train, y_train)\n",
        "y_pred = model.predict(X_test)\n",
        "accuracy = accuracy_score(y_test, y_pred)\n",
        "print(\"Akurasi:\", accuracy)\n",
        "print(\"banyak data latih train-test:\", len (X_train))\n",
        "print(\"banyak data uji train-test:\", len (X_test))"
      ],
      "metadata": {
        "colab": {
          "base_uri": "https://localhost:8080/"
        },
        "id": "3OQF98nytCsH",
        "outputId": "ad7674d7-4c61-4fc4-e1f3-62c8c4083b41"
      },
      "execution_count": null,
      "outputs": [
        {
          "output_type": "stream",
          "name": "stdout",
          "text": [
            "Akurasi: 0.46\n",
            "banyak data latih train-test: 150\n",
            "banyak data uji train-test: 50\n"
          ]
        }
      ]
    },
    {
      "cell_type": "code",
      "source": [
        "import pandas as pd\n",
        "from sklearn.model_selection import train_test_split\n",
        "from sklearn.svm import SVC\n",
        "from sklearn.metrics import accuracy_score\n",
        "\n",
        "nama_file = 'CPB1.xlsx'\n",
        "\n",
        "\n",
        "data = pd.read_excel(nama_file)\n",
        "\n",
        "X = data.iloc[:, :-1]  # Ambil semua kolom kecuali kolom terakhir\n",
        "y = data.iloc[:, -1]   # Ambil kolom terakhir sebagai target\n",
        "\n",
        "# Bagi data menjadi data pelatihan (50%) dan data sisanya\n",
        "X_train, X_remaining, y_train, y_remaining = train_test_split(X, y, test_size=0.5, random_state=42)\n",
        "\n",
        "# Bagi data sisanya menjadi data validasi (50%) dan data pengujian (50%)\n",
        "X_validation, X_test, y_validation, y_test = train_test_split(X_remaining, y_remaining, test_size=0.5, random_state=42)\n",
        "\n",
        "# Print jumlah data\n",
        "print(\"Jumlah data pelatihan:\", len(X_train))\n",
        "print(\"Jumlah data validasi:\", len(X_validation))\n",
        "print(\"Jumlah data pengujian:\", len(X_test))\n",
        "\n",
        "# Inisialisasi model SVM\n",
        "model = SVC(kernel='linear')\n",
        "\n",
        "# Latih model dengan data pelatihan\n",
        "model.fit(X_train, y_train)\n",
        "\n",
        "y_pred_validation = model.predict(X_validation)\n",
        "\n",
        "accuracy_validation = accuracy_score(y_validation, y_pred_validation)\n",
        "print(\"Akurasi pada data validasi:\", accuracy_validation)\n",
        "\n",
        "\n",
        "y_pred_test = model.predict(X_test)\n",
        "\n",
        "accuracy_test = accuracy_score(y_test, y_pred_test)\n",
        "print(\"Akurasi pada data pengujian:\", accuracy_test)\n"
      ],
      "metadata": {
        "colab": {
          "base_uri": "https://localhost:8080/"
        },
        "id": "RNrFDshNzKTk",
        "outputId": "174cce33-bb7e-4ee4-b597-31e0ca5c5fda"
      },
      "execution_count": null,
      "outputs": [
        {
          "output_type": "stream",
          "name": "stdout",
          "text": [
            "Jumlah data pelatihan: 100\n",
            "Jumlah data validasi: 50\n",
            "Jumlah data pengujian: 50\n",
            "Akurasi pada data validasi: 0.56\n",
            "Akurasi pada data pengujian: 0.42\n"
          ]
        }
      ]
    },
    {
      "cell_type": "code",
      "source": [
        "import pandas as pd\n",
        "from sklearn.model_selection import train_test_split\n",
        "from sklearn.neighbors import KNeighborsClassifier\n",
        "from sklearn.metrics import accuracy_score, precision_score, recall_score, f1_score, confusion_matrix\n",
        "nama_file = 'CPB1.xlsx'\n",
        "data = pd.read_excel(nama_file)\n",
        "\n",
        "X = data.iloc[:, :-1]  # Ambil semua kolom kecuali kolom terakhir\n",
        "y = data.iloc[:, -1]   # Ambil kolom terakhir sebagai target\n",
        "\n",
        "# Bagi data menjadi data pelatihan (70%) dan data pengujian (30%)\n",
        "X_train, X_test, y_train, y_test = train_test_split(X, y, test_size=0.3, random_state=42)\n",
        "\n",
        "# Inisialisasi model KNN\n",
        "model = KNeighborsClassifier(n_neighbors=5)\n",
        "\n",
        "model.fit(X_train, y_train)\n",
        "\n",
        "y_pred = model.predict(X_test)\n",
        "\n",
        "# Hitung metrik evaluasi\n",
        "accuracy = accuracy_score(y_test, y_pred)\n",
        "precision = precision_score(y_test, y_pred, pos_label='C')\n",
        "recall = recall_score(y_test, y_pred, pos_label='C')\n",
        "f1 = f1_score(y_test, y_pred, pos_label='C')\n",
        "conf_matrix = confusion_matrix(y_test, y_pred, labels=['A', 'C'])\n",
        "\n",
        "sensitivity = recall\n",
        "\n",
        "specificity = conf_matrix[0, 0] / (conf_matrix[0, 0] + conf_matrix[0, 1])\n",
        "\n",
        "print(\"Accuracy:\", accuracy)\n",
        "print(\"Precision:\", precision)\n",
        "print(\"Recall (Sensitivity):\", sensitivity)\n",
        "print(\"Specificity:\", specificity)\n",
        "print(\"F1-Score:\", f1)\n",
        "print(\"Confusion Matrix:\")\n",
        "print(conf_matrix)\n"
      ],
      "metadata": {
        "colab": {
          "base_uri": "https://localhost:8080/"
        },
        "id": "GnsFHv0FzbBL",
        "outputId": "90f8be7c-21e0-4c70-8d3c-b35daae995da"
      },
      "execution_count": null,
      "outputs": [
        {
          "output_type": "stream",
          "name": "stdout",
          "text": [
            "Accuracy: 0.8833333333333333\n",
            "Precision: 0.8928571428571429\n",
            "Recall (Sensitivity): 0.8620689655172413\n",
            "Specificity: 0.9032258064516129\n",
            "F1-Score: 0.8771929824561403\n",
            "Confusion Matrix:\n",
            "[[28  3]\n",
            " [ 4 25]]\n"
          ]
        }
      ]
    },
    {
      "cell_type": "code",
      "source": [
        "import pandas as pd\n",
        "from sklearn.model_selection import train_test_split\n",
        "from sklearn.neighbors import KNeighborsClassifier\n",
        "from sklearn.metrics import confusion_matrix\n",
        "import matplotlib.pyplot as plt\n",
        "import seaborn as sns\n",
        "\n",
        "nama_file = 'CPB1.xlsx'\n",
        "\n",
        "data = pd.read_excel(nama_file)\n",
        "X = data.iloc[:, :-1]  # Ambil semua kolom kecuali kolom terakhir\n",
        "y = data.iloc[:, -1]   # Ambil kolom terakhir sebagai target\n",
        "X_train, X_test, y_train, y_test = train_test_split(X, y, test_size=0.3, random_state=42)\n",
        "\n",
        "# Inisialisasi model KNN\n",
        "model = KNeighborsClassifier(n_neighbors=5)\n",
        "\n",
        "model.fit(X_train, y_train)\n",
        "\n",
        "y_pred = model.predict(X_test)\n",
        "\n",
        "conf_matrix = confusion_matrix(y_test, y_pred, labels=['A', 'C'])\n",
        "\n",
        "plt.figure(figsize=(8, 6))\n",
        "sns.heatmap(conf_matrix, annot=True, fmt='d', cmap='Blues', xticklabels=['A', 'C'], yticklabels=['A', 'C'])\n",
        "plt.xlabel('Predicted Label')\n",
        "plt.ylabel('True Label')\n",
        "plt.title('Confusion Matrix')\n",
        "plt.show()\n"
      ],
      "metadata": {
        "colab": {
          "base_uri": "https://localhost:8080/",
          "height": 564
        },
        "id": "6Hu3wzOdz3nD",
        "outputId": "8a3fbdc1-9ec5-4613-8456-977a12e0447c"
      },
      "execution_count": null,
      "outputs": [
        {
          "output_type": "display_data",
          "data": {
            "text/plain": [
              "<Figure size 800x600 with 2 Axes>"
            ],
            "image/png": "[encoded data removed]"
          },
          "metadata": {}
        }
      ]
    }
  ]
}